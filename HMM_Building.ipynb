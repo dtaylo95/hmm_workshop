{
 "cells": [
  {
   "cell_type": "markdown",
   "metadata": {},
   "source": [
    "# Hidden Markov Model (HMM) Workshop Part 2\n",
    "## Sara Carioscia and Dylan Taylor\n",
    "### Hosted by Agara Bio\n",
    "### December 13, 2020"
   ]
  },
  {
   "cell_type": "markdown",
   "metadata": {},
   "source": [
    "# Getting started"
   ]
  },
  {
   "cell_type": "markdown",
   "metadata": {},
   "source": [
    "First, we `import` any external packages we need. Today, the only external package we use is `numpy`, which lets us use and manipulate the `array` data structure."
   ]
  },
  {
   "cell_type": "code",
   "execution_count": null,
   "metadata": {},
   "outputs": [],
   "source": [
    "import numpy"
   ]
  },
  {
   "cell_type": "markdown",
   "metadata": {},
   "source": [
    "To make the training data more accessible to you, we've created files that have the data coded as single observations (nucleotides) or states (intergenic, exon1, etc.) separated by commas. As you will see below, it is helpful if we encode these observations as integers (1, 2, 15, etc.) instead of strings (letters or words, like 'intergenic' or 'G').\n",
    "\n",
    "We will use a data structure called a `dictionary` to convert the strings from our files into integers that we can use for the rest of the code."
   ]
  },
  {
   "cell_type": "code",
   "execution_count": null,
   "metadata": {},
   "outputs": [],
   "source": [
    "get_nuc_index = {\n",
    "    'A' : 0,\n",
    "    'C' : 1,\n",
    "    'G' : 2,\n",
    "    'T' : 3\n",
    "}\n",
    "\n",
    "get_state_index = {\n",
    "    'Intergenic' : 0,\n",
    "    'Start1' : 1,\n",
    "    'Start2' : 2,\n",
    "    'Start3' : 3,\n",
    "    'Exon1' : 4,\n",
    "    'Exon2' : 5,\n",
    "    'Exon3' : 6,\n",
    "    'Intron1' : 7,\n",
    "    'Intron2' : 8,\n",
    "    'Intron3' : 9\n",
    "}"
   ]
  },
  {
   "cell_type": "markdown",
   "metadata": {},
   "source": [
    "# Read in and format the data"
   ]
  },
  {
   "cell_type": "markdown",
   "metadata": {},
   "source": [
    "Now that we have converted the observations (nucleotides) and states (intergenic, etc.) to integers, we want to read in our data.\n",
    "\n",
    "We've put the training data in two `.csv` files in the same directory as this notebook:\n",
    "DNA sequence training data: `HMM_DNA_training.csv`\n",
    "State sequence training data: `HMM_State_training.csv`"
   ]
  },
  {
   "cell_type": "code",
   "execution_count": null,
   "metadata": {},
   "outputs": [],
   "source": [
    "# Assign a variable name (e.g., `DNA_training_data_file`) to each file \n",
    "# so we can access it in our code\n",
    "DNA_training_data_file = 'HMM_DNA_training.csv'\n",
    "State_training_data_file = 'HMM_State_training.csv'\n",
    "\n",
    "# We can read these files line by line, and convert each line to a string:\n",
    "for line in open(DNA_training_data_file):\n",
    "    # Strip any trailing white space (new line characters)\n",
    "    # and split the string at all commas (thus creating a list)\n",
    "    line_as_list = line.strip().split(',')\n",
    "    print(line_as_list)\n",
    "    break"
   ]
  },
  {
   "cell_type": "markdown",
   "metadata": {},
   "source": [
    "Now we have the DNA data and the State data in different files. However, we need to associate the nucleotides with their states.\n",
    "\n",
    "To store the DNA data, we create an empty list, which we populate with each line from the data; this gives us a list of lists. We convert this to a numpy array."
   ]
  },
  {
   "cell_type": "code",
   "execution_count": null,
   "metadata": {},
   "outputs": [],
   "source": [
    "# Empty list for the DNA sequence \n",
    "DNA_training_data = []\n",
    "\n",
    "# Create a list of lists, where each list is a sequence from the data file \n",
    "for line in open(DNA_training_data_file):\n",
    "    line_as_list = line.strip().split(',')\n",
    "    DNA_training_data.append(line_as_list)\n",
    "    \n",
    "# Formate the DNA training data as an array\n",
    "DNA_training_data = numpy.array(DNA_training_data)\n",
    "\n",
    "# What does it look like?\n",
    "print(DNA_training_data)"
   ]
  },
  {
   "cell_type": "markdown",
   "metadata": {},
   "source": [
    "We do the same thing as above with the State sequence data"
   ]
  },
  {
   "cell_type": "code",
   "execution_count": null,
   "metadata": {},
   "outputs": [],
   "source": [
    "# Format the state sequence through the same process\n",
    "State_training_data = []\n",
    "\n",
    "for line in open(State_training_data_file):\n",
    "    line_as_list = line.strip().split(',')\n",
    "    State_training_data.append(line_as_list)\n",
    "    \n",
    "State_training_data = numpy.array(State_training_data)\n",
    "print(State_training_data)"
   ]
  },
  {
   "cell_type": "markdown",
   "metadata": {},
   "source": [
    "# Learn training values to use in our model"
   ]
  },
  {
   "cell_type": "markdown",
   "metadata": {},
   "source": [
    "Now that we have the data read into arrays, we want to use this training data to estimate the probabilities necessary for our model: the start, emission, and transition probabilities.\n",
    "\n",
    "Last week, we determined the emission probabilities for each State by counting the nucleotides (how many times the State emitted an 'A', 'C', 'G' or 'T', divided by the sum for each State). We do the same thing here.\n",
    "\n",
    "First, let's talk about why we encoded our emissions and States as integers.\n",
    "\n",
    "We have 10 states and 4 observations. We can make a 10x4 array, such that the value at position **[i,j]** in the array is the number of times the **ith** state emitted the **jth** observation. Above, we encoded the state `'exon1'` as `4` and we encoded the observation `'T'` as `3`.\n",
    "\n",
    "So to find the number of times the `'exon1'` state emitted the nucleotide `'T'`, we would simply check the array at position `[4,3]`."
   ]
  },
  {
   "cell_type": "markdown",
   "metadata": {},
   "source": [
    "To get those counts, we make an empty array with the correct dimensions (number of rows and columns), which we fill using our data.\n",
    "\n",
    "We make an array of zeros using the `numpy.zeros()` command, and give it the shape we want (rows,columns)."
   ]
  },
  {
   "cell_type": "code",
   "execution_count": null,
   "metadata": {},
   "outputs": [],
   "source": [
    "# Make an array of zeros with 10 rows and 4 columns, and name it `emission_counts`\n",
    "# Each row is a State, and each column shows the number of emissions of a \n",
    "# certain nucleotide for that State\n",
    "emission_counts = numpy.zeros((10,4))"
   ]
  },
  {
   "cell_type": "markdown",
   "metadata": {},
   "source": [
    "For the transition counts, we can create a 10x10 array, such that the value at position **[i,j]** is the number of times that State **i** transitions to State **j**."
   ]
  },
  {
   "cell_type": "code",
   "execution_count": null,
   "metadata": {},
   "outputs": [],
   "source": [
    "transition_counts = numpy.zeros((10,10))"
   ]
  },
  {
   "cell_type": "markdown",
   "metadata": {},
   "source": [
    "Finally, we can create a one-dimensional array of size 10, that contains the \"start\" probabilities of each State."
   ]
  },
  {
   "cell_type": "code",
   "execution_count": null,
   "metadata": {},
   "outputs": [],
   "source": [
    "start_counts = numpy.zeros((10))"
   ]
  },
  {
   "cell_type": "markdown",
   "metadata": {},
   "source": [
    "Now that we've created our zero-count arrays, we need to fill them using our training data.\n",
    "\n",
    "A great way to iterate through data is to use a `for` loop. In this case, we want to investigate the State data and the DNA data at the same time. \n",
    "\n",
    "Using our State data array and our DNA data array, we can find the state that emitted the nucleotide at position **[i,j]** in the DNA data array by looking at the same position, **[i,j]** in the State data array.\n",
    "\n",
    "Because of this, it's better to loop through the indicies of the arrays, rather than the rows themselves. (This allows us to use the same indicies on both arrays)."
   ]
  },
  {
   "cell_type": "code",
   "execution_count": null,
   "metadata": {},
   "outputs": [],
   "source": [
    "# We find the number of rows in the training data using .shape[0].\n",
    "# Using the `range` function, we iterate through the row indicies of our two arrays.\n",
    "for row_num in range(DNA_training_data.shape[0]):\n",
    "    # We can do a similar thing for the columns, using .shape[1].\n",
    "    for col_num in range(DNA_training_data.shape[1]):\n",
    "        # To make things easier, let's just store the state a given position,\n",
    "        # [row_num, col_num], in the State array as a variable.\n",
    "        state = State_training_data[row_num,col_num]\n",
    "        # We store the corresponding observation in its own variable.\n",
    "        nucleotide = DNA_training_data[row_num,col_num]\n",
    "        # Now we use our dictionaries to convert our state and nucleotide variables\n",
    "        # to integers, so we can use them in our count arrays.\n",
    "        state_index = get_state_index[state]\n",
    "        nucleotide_index = get_nuc_index[nucleotide]\n",
    "\n",
    "        # Now that we've encoded the State and observation,\n",
    "        # we go to the corresponding spot in the emission_counts array,\n",
    "        # and add 1. We do this each time we encounter that State paired with that \n",
    "        # observation, counting the total number of emissions of that observation from \n",
    "        # that state. \n",
    "        emission_counts[state_index,nucleotide_index] += 1\n",
    "\n",
    "        # Next we need to consider the State transitions.\n",
    "        # There's one fewer transition than observation in each sequence, \n",
    "        # so we need to check that we're not in the last column.\n",
    "        if col_num < State_training_data.shape[1]-1:\n",
    "            # We determine the next State by checking the next column in the State array. \n",
    "            # We then store that state.\n",
    "            next_state = State_training_data[row_num,col_num+1]\n",
    "            # As before, we need to encode this state as an integer, using our dictionary.\n",
    "            next_state_index = get_state_index[next_state]\n",
    "\n",
    "            # We had the current state, and we just found the next state. \n",
    "            # We now go to the correct position in the `transition_counts` array and add 1.\n",
    "            transition_counts[state_index, next_state_index] += 1\n",
    "\n",
    "        # There's one last thing we want to check. If we're in the first\n",
    "        # column, that State is the starting State.\n",
    "        if col_num == 0:\n",
    "            # We already have the encoded current state, so we can\n",
    "            # just go to that position in the start_counts array and add 1.\n",
    "            start_counts[state_index] += 1"
   ]
  },
  {
   "cell_type": "markdown",
   "metadata": {},
   "source": [
    "## Convert emission counts to probabilities "
   ]
  },
  {
   "cell_type": "markdown",
   "metadata": {},
   "source": [
    "Remember the emission probabilities for our HMM? This is the probability of any state giving us each of the nucleotides. "
   ]
  },
  {
   "cell_type": "code",
   "execution_count": null,
   "metadata": {},
   "outputs": [],
   "source": [
    "# First, we make an array of zeros in the same shape as our emission counts.\n",
    "# This gives us an easy place (with the correct number of rows and columns)\n",
    "# to store our emission probabilities once we have them.\n",
    "emission_probs = numpy.zeros(emission_counts.shape)\n",
    "\n",
    "# For each row\n",
    "for row_num in range(emission_counts.shape[0]):\n",
    "    # Get the number of emissions at each row and add them together. \n",
    "    # We're using the `sum` command within the numpy package.\n",
    "    row_sum = numpy.sum(emission_counts[row_num])\n",
    "    # If we have any value that is not zero,\n",
    "    if row_sum != 0:\n",
    "        # ??\n",
    "        emission_probs[row_num] = emission_counts[row_num]/row_sum"
   ]
  },
  {
   "cell_type": "markdown",
   "metadata": {},
   "source": [
    "## Convert transition counts to probabilities "
   ]
  },
  {
   "cell_type": "markdown",
   "metadata": {},
   "source": [
    "Remember the transition probabilities for our HMM? This is the probability of being in a given State at position x+1, given the State we were in at position x. "
   ]
  },
  {
   "cell_type": "code",
   "execution_count": null,
   "metadata": {},
   "outputs": [],
   "source": [
    "transition_probs = numpy.zeros(transition_counts.shape)\n",
    "\n",
    "for row_num in range(transition_counts.shape[0]):\n",
    "    row_sum = numpy.sum(transition_counts[row_num])\n",
    "    if row_sum != 0:\n",
    "        transition_probs[row_num] = transition_counts[row_num]/row_sum"
   ]
  },
  {
   "cell_type": "markdown",
   "metadata": {},
   "source": [
    "## Convert start counts to probabilities "
   ]
  },
  {
   "cell_type": "code",
   "execution_count": null,
   "metadata": {},
   "outputs": [],
   "source": [
    "start_probs = start_counts / numpy.sum(start_counts)"
   ]
  },
  {
   "cell_type": "markdown",
   "metadata": {},
   "source": [
    "# The Viterbi Algorithm"
   ]
  },
  {
   "cell_type": "markdown",
   "metadata": {},
   "source": [
    "First, we define a function that will convert our nucleotides to integers. This is important because ?? "
   ]
  },
  {
   "cell_type": "code",
   "execution_count": null,
   "metadata": {},
   "outputs": [],
   "source": [
    "# The input to our function is the sequence of DNA we're looking to encode\n",
    "def encode_DNA(DNA_seq):\n",
    "\n",
    "    encoded_seq = numpy.zeros(len(DNA_seq),dtype=int)\n",
    "\n",
    "    # Here we use the range function to go through the entire length of the DNA_seq. \n",
    "    # The `for loop` takes us from the beginning of the sequence all the way to the end. \n",
    "    for i in range(len(DNA_seq)):\n",
    "        # The nucleotide considered in each iteration of the for loop is the ith letter \n",
    "        # in the sequence. For example, DNA_seq[2] gets us the 3rd letter in the sequence. \n",
    "        nucleotide = DNA_seq[i]\n",
    "        # We store the index of that nucleotide\n",
    "        nuc_index = get_nuc_index[nucleotide]\n",
    "        # ??\n",
    "        encoded_seq[i] = nuc_index\n",
    "\n",
    "    # We have a function `return` a value that we want to use for further analysis.\n",
    "    # ?? (what form is the returned info in?)\n",
    "    return encoded_seq\n"
   ]
  },
  {
   "cell_type": "markdown",
   "metadata": {},
   "source": [
    "Now we define a function that will use our state probabilities (`s_probs`), transition probabilities (`t_probs`), emission probabilities (`e_probs`), and the encoded DNA sequence (`encoded_DNA_seq` to compute the Viterbi Algorithm. Remember that Viterbi gives us the most probable path through a sequence of states, given a sequence of emissions (in this case, it'll tell us the most likely region on the chromosome - intergenic, exon, etc. - given a DNA sequence). "
   ]
  },
  {
   "cell_type": "code",
   "execution_count": null,
   "metadata": {},
   "outputs": [],
   "source": [
    "# The inputs to our function are the three probabilities, as well as the encided DNA sequence,\n",
    "# This is the output of our above function, `encode_DNA`. \n",
    "def viterbi(s_probs, t_probs, e_probs, encoded_DNA_seq):\n",
    "\n",
    "    # To determine the length of our DNA sequence, we take do the `shape` command to get the \n",
    "    # dimensions of our encoded DNA. This gives us (dimension1,dimension2). \n",
    "    # By taking the 0th term of that output, we get the ?dimension1. \n",
    "    DNA_length = encoded_DNA_seq.shape[0]\n",
    "    # We do the same thing to get the number of possible states. \n",
    "    num_states = s_probs.shape[0]\n",
    "\n",
    "    # We make an empty matrix to store the traceback - the path through the states based on \n",
    "    # our emissions. (Think of that rectangle chart used in Week 1, where we have some\n",
    "    # probability for each position.).\n",
    "    traceback_matrix = numpy.zeros((num_states,DNA_length), dtype=int)\n",
    "    # ??\n",
    "    traceback_matrix[:,0] = numpy.nan\n",
    "\n",
    "    # We do the same for our probabilities.\n",
    "    probability_matrix = numpy.zeros((num_states,DNA_length))\n",
    "\n",
    "    # Compute the probability and traceback matrices.\n",
    "    # `position` refers to each step, as we go from the beginning of `DNA_length` to the end. \n",
    "    for position in range(DNA_length):\n",
    "        # Name the variable `nucleotide` to be the value at the given position in our \n",
    "        # encoded DNA sequence.\n",
    "        nucleotide = encoded_DNA_seq[position]\n",
    "        # If we're at the first position, kick it off! \n",
    "        if position == 0:\n",
    "            # For any state in the series of states\n",
    "            for state in range(num_states):\n",
    "                # For the state, fill in our empty probability_matrix in the correct cell with \n",
    "                # the correct probability: the probability of being in that state times\n",
    "                # the probability of emitting that nucleotide if in that state.\n",
    "                probability_matrix[state,position] = s_probs[state] * e_probs[state,nucleotide]\n",
    "        # If we're at any position besides the first, \n",
    "        else:\n",
    "            # Consider the current state, \n",
    "            for current_state in range(num_states):\n",
    "                # ??\n",
    "                max_previous_state = None\n",
    "                # ??\n",
    "                max_probability = None\n",
    "                # ?? We walk through the states, using the term `previous_state` \n",
    "                for previous_state in range(num_states):\n",
    "                    # Compute the probability of the path of interest: the probability from the previous cell times\n",
    "                    # the probability of getting to this state from the previous state \n",
    "                    path_prob = probability_matrix[previous_state,position-1] * t_probs[previous_state, current_state] *  e_probs[current_state, nucleotide]\t\t\t\t\n",
    "                    # We keep only the path with the higher probability \n",
    "                    if max_probability == None or path_prob > max_probability:\n",
    "                        max_previous_state = previous_state\n",
    "                        max_probability = path_prob\n",
    "                # Update the probability matrix using the newly computed maximum probability \n",
    "                probability_matrix[current_state, position] = max_probability\n",
    "                # Update the traceback matrix (the path through states) using \n",
    "                # ?? \n",
    "                traceback_matrix[current_state, position] = max_previous_state\n",
    "\n",
    "    # Navigate the traceback matrix\n",
    "    # We find the maximum value in the probability matrix, considering ??\n",
    "    # ?? every row until the second to last colun\n",
    "    max_path_probability = numpy.max(probability_matrix[:,-1])\n",
    "    # ?? \n",
    "    max_end_state = numpy.argmax(probability_matrix[:,-1])\n",
    "\n",
    "    # ?? \n",
    "    max_path = numpy.zeros(DNA_length, dtype=int)\n",
    "\n",
    "    # ??\n",
    "    current_state = max_end_state\n",
    "    # We use the `range` command to walk through the DNA sequence. \n",
    "    # We go from ?? \n",
    "    for i in range(DNA_length-1, -1, -1): # could also use a while loop\n",
    "        # ??\n",
    "        max_path[i] = current_state\n",
    "        # We replace our current state with the value in our `traceback_matrix` at the \n",
    "        # position of interest \n",
    "        current_state = traceback_matrix[current_state, i]\n",
    "\n",
    "    # The function the probability of the most likely path, `max_path_probability`,\n",
    "    # and returns the most likely path itself, `max_path` \n",
    "    return max_path_probability, max_path"
   ]
  },
  {
   "cell_type": "markdown",
   "metadata": {},
   "source": [
    "We check our work by using a test sequence! "
   ]
  },
  {
   "cell_type": "code",
   "execution_count": null,
   "metadata": {},
   "outputs": [],
   "source": [
    "# We make up a strand of DNA and name it `test_seq`\n",
    "test_seq = 'CATGAGCTCTCGAGATCGATAGCTCTCGAGATGCGATATACGCTCGCGATGCATGCACTC'\n",
    "\n",
    "# We encode our strand using the `encode_DNA` function and save that output in the variable\n",
    "# `encoded_test_seq` to be used later\n",
    "encoded_test_seq = encode_DNA(test_seq)\n",
    "\n",
    "# We run the Viterbi Algorithm function, using the inputs `start_probs`, `transition_probs`,\n",
    "# `emission_probs` from our training data and the encoded DNA output from the above function\n",
    "viterbi_results = viterbi(start_probs, transition_probs, emission_probs, encoded_test_seq)\n",
    "\n",
    "# The Viterbi Algorithm function returns two values: the `max_path_probability` and the \n",
    "# `max_path`. We're interested in what that path is - not really its probability. \n",
    "# Remember that python starts counting at zero. So since we want the second value returned\n",
    "# from the Viterbi Algorithm function, `max_path`, we index the `viterbi_results` \n",
    "# asking for the [1] term. \n",
    "print(viterbi_results[1])"
   ]
  }
 ],
 "metadata": {
  "kernelspec": {
   "display_name": "Python 3",
   "language": "python",
   "name": "python3"
  },
  "language_info": {
   "codemirror_mode": {
    "name": "ipython",
    "version": 3
   },
   "file_extension": ".py",
   "mimetype": "text/x-python",
   "name": "python",
   "nbconvert_exporter": "python",
   "pygments_lexer": "ipython3",
   "version": "3.8.5"
  }
 },
 "nbformat": 4,
 "nbformat_minor": 4
}
