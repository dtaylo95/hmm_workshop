{
 "cells": [
  {
   "cell_type": "markdown",
   "metadata": {},
   "source": [
    "# Model Exploration\n",
    "\n",
    "**Have examples of the models we were working with and how we can make them more complex**"
   ]
  },
  {
   "cell_type": "markdown",
   "metadata": {},
   "source": [
    "# Book-keeping"
   ]
  },
  {
   "cell_type": "markdown",
   "metadata": {},
   "source": [
    "First, we're going to import any external packages we need.\n",
    "\n",
    "For today, the only external package we're going to use is \"numpy\", which let's us use and manipulate arrays."
   ]
  },
  {
   "cell_type": "code",
   "execution_count": 1,
   "metadata": {},
   "outputs": [],
   "source": [
    "import numpy"
   ]
  },
  {
   "cell_type": "markdown",
   "metadata": {},
   "source": [
    "To make the training data more accessible to you, we've created files that have.... **Explain the need for dictionaries and the need to have the data represented as integers**"
   ]
  },
  {
   "cell_type": "code",
   "execution_count": null,
   "metadata": {},
   "outputs": [],
   "source": [
    "get_nuc_index = {\n",
    "    'A' : 0,\n",
    "    'C' : 1,\n",
    "    'G' : 2,\n",
    "    'T' : 3\n",
    "}\n",
    "\n",
    "get_state_index = {\n",
    "    'Intergenic' : 0,\n",
    "    'Start1' : 1,\n",
    "    'Start2' : 2,\n",
    "    'Start3' : 3,\n",
    "    'Exon1' : 4,\n",
    "    'Exon2' : 5,\n",
    "    'Exon3' : 6,\n",
    "    'Intron1' : 7,\n",
    "    'Intron2' : 8,\n",
    "    'Intron3' : 9\n",
    "}"
   ]
  },
  {
   "cell_type": "markdown",
   "metadata": {},
   "source": [
    "Now that we are able to convert nucleotides and model states to integers, we want to actually read in the data.\n",
    "\n",
    "We've put the training data in two `.csv` files in the same directory as this notebook.\n",
    "\n",
    "The DNA sequence training data is in the file `HMM_DNA_training.csv`\n",
    "The State sequence training data is in the file `HMM_State_training.csv`\n",
    "\n",
    "Python has a functionality that allows us to read through these files line by line, and convert each line to a string"
   ]
  },
  {
   "cell_type": "code",
   "execution_count": 11,
   "metadata": {},
   "outputs": [
    {
     "name": "stdout",
     "output_type": "stream",
     "text": [
      "['T', 'A', 'T', 'G', 'G', 'C', 'A', 'T', 'C', 'A', 'G']\n"
     ]
    }
   ],
   "source": [
    "DNA_training_data_file = 'HMM_DNA_training.csv'\n",
    "State_training_data_file = 'HMM_State_training.csv'\n",
    "\n",
    "for line in open(DNA_training_data_file):\n",
    "    line_as_list = line.strip().split(',')\n",
    "    print(line_as_list)\n",
    "    break"
   ]
  },
  {
   "cell_type": "markdown",
   "metadata": {},
   "source": [
    "Because we have the DNA data and the State data in different files, we need to store the DNA data such that when we read through the state data, we can connect each nucleotide emission with it's state.\n",
    "\n",
    "To store the DNA data, we can create an empty list, and populate it with each line of the data (creating a list of lists). Finally we can convert that into a numpy array."
   ]
  },
  {
   "cell_type": "code",
   "execution_count": null,
   "metadata": {},
   "outputs": [],
   "source": [
    "DNA_training_data = []\n",
    "\n",
    "for line in open(DNA_training_data_file):\n",
    "    line_as_list = line.strip().split(',')\n",
    "    DNA_training_data.append(line_as_list)\n",
    "    \n",
    "DNA_training_data = numpy.array(DNA_training_data)\n",
    "\n",
    "print(DNA_training_data)"
   ]
  }
 ],
 "metadata": {
  "kernelspec": {
   "display_name": "Python 3",
   "language": "python",
   "name": "python3"
  },
  "language_info": {
   "codemirror_mode": {
    "name": "ipython",
    "version": 3
   },
   "file_extension": ".py",
   "mimetype": "text/x-python",
   "name": "python",
   "nbconvert_exporter": "python",
   "pygments_lexer": "ipython3",
   "version": "3.8.5"
  }
 },
 "nbformat": 4,
 "nbformat_minor": 4
}
