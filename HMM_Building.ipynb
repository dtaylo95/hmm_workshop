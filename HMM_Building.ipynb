{
 "cells": [
  {
   "cell_type": "markdown",
   "metadata": {},
   "source": [
    "# Hidden Markov Model for DNA Sequence Analysis\n",
    "\n",
    "**Have examples of the models we were working with and how we can make them more complex**"
   ]
  },
  {
   "cell_type": "markdown",
   "metadata": {},
   "source": [
    "# Getting started"
   ]
  },
  {
   "cell_type": "markdown",
   "metadata": {},
   "source": [
    "First, we're going to import any external packages we need.\n",
    "\n",
    "For today, the only external package we're going to use is \"numpy\", which let's us use and manipulate arrays."
   ]
  },
  {
   "cell_type": "code",
   "execution_count": 1,
   "metadata": {},
   "outputs": [],
   "source": [
    "import numpy"
   ]
  },
  {
   "cell_type": "markdown",
   "metadata": {},
   "source": [
    "To make the training data more accessible to you, we've created files that have.... **Explain the need for dictionaries and the need to have the data represented as integers**"
   ]
  },
  {
   "cell_type": "code",
   "execution_count": null,
   "metadata": {},
   "outputs": [],
   "source": [
    "get_nuc_index = {\n",
    "    'A' : 0,\n",
    "    'C' : 1,\n",
    "    'G' : 2,\n",
    "    'T' : 3\n",
    "}\n",
    "\n",
    "get_state_index = {\n",
    "    'Intergenic' : 0,\n",
    "    'Start1' : 1,\n",
    "    'Start2' : 2,\n",
    "    'Start3' : 3,\n",
    "    'Exon1' : 4,\n",
    "    'Exon2' : 5,\n",
    "    'Exon3' : 6,\n",
    "    'Intron1' : 7,\n",
    "    'Intron2' : 8,\n",
    "    'Intron3' : 9\n",
    "}"
   ]
  },
  {
   "cell_type": "markdown",
   "metadata": {},
   "source": [
    "# Read in + format the data"
   ]
  },
  {
   "cell_type": "markdown",
   "metadata": {},
   "source": [
    "Now that we are able to convert nucleotides and model states to integers, we want to actually read in the data.\n",
    "\n",
    "We've put the training data in two `.csv` files in the same directory as this notebook.\n",
    "\n",
    "The DNA sequence training data is in the file `HMM_DNA_training.csv`\n",
    "The State sequence training data is in the file `HMM_State_training.csv`\n",
    "\n",
    "Python has a functionality that allows us to read through these files line by line, and convert each line to a string"
   ]
  },
  {
   "cell_type": "code",
   "execution_count": 11,
   "metadata": {},
   "outputs": [
    {
     "name": "stdout",
     "output_type": "stream",
     "text": [
      "['T', 'A', 'T', 'G', 'G', 'C', 'A', 'T', 'C', 'A', 'G']\n"
     ]
    }
   ],
   "source": [
    "DNA_training_data_file = 'HMM_DNA_training.csv'\n",
    "State_training_data_file = 'HMM_State_training.csv'\n",
    "\n",
    "for line in open(DNA_training_data_file):\n",
    "    line_as_list = line.strip().split(',')\n",
    "    print(line_as_list)\n",
    "    break"
   ]
  },
  {
   "cell_type": "markdown",
   "metadata": {},
   "source": [
    "Because we have the DNA data and the State data in different files, we need to store the DNA data such that when we read through the state data, we can connect each nucleotide emission with it's state.\n",
    "\n",
    "To store the DNA data, we can create an empty list, and populate it with each line of the data (creating a list of lists). Finally we can convert that into a numpy array."
   ]
  },
  {
   "cell_type": "code",
   "execution_count": null,
   "metadata": {},
   "outputs": [],
   "source": [
    "# Empty list for the DNA sequence \n",
    "DNA_training_data = []\n",
    "\n",
    "for line in open(DNA_training_data_file):\n",
    "    line_as_list = line.strip().split(',')\n",
    "    DNA_training_data.append(line_as_list)\n",
    "    \n",
    "# Rename DNA_training_data to be the information, formatted as an array\n",
    "DNA_training_data = numpy.array(DNA_training_data)\n",
    "\n",
    "# What does it look like?\n",
    "print(DNA_training_data)"
   ]
  },
  {
   "cell_type": "code",
   "execution_count": null,
   "metadata": {},
   "outputs": [],
   "source": [
    "# Format the state sequence through the same process\n",
    "State_training_data = []\n",
    "\n",
    "for line in open(State_training_data_file):\n",
    "    line_as_list = line.strip().split(',')\n",
    "    State_training_data.append(line_as_list)\n",
    "    \n",
    "State_training_data = numpy.array(State_training_data)\n",
    "print(State_training_data)"
   ]
  },
  {
   "cell_type": "markdown",
   "metadata": {},
   "source": [
    "# Learn training values to use in our model"
   ]
  },
  {
   "cell_type": "code",
   "execution_count": 1,
   "metadata": {},
   "outputs": [
    {
     "ename": "NameError",
     "evalue": "name 'DNA_training_data' is not defined",
     "output_type": "error",
     "traceback": [
      "\u001b[0;31m---------------------------------------------------------------------------\u001b[0m",
      "\u001b[0;31mNameError\u001b[0m                                 Traceback (most recent call last)",
      "\u001b[0;32m<ipython-input-1-a1debcf92674>\u001b[0m in \u001b[0;36m<module>\u001b[0;34m\u001b[0m\n\u001b[1;32m      3\u001b[0m \u001b[0;34m\u001b[0m\u001b[0m\n\u001b[1;32m      4\u001b[0m \u001b[0;31m# For each row in our DNA\u001b[0m\u001b[0;34m\u001b[0m\u001b[0;34m\u001b[0m\u001b[0;34m\u001b[0m\u001b[0m\n\u001b[0;32m----> 5\u001b[0;31m \u001b[0;32mfor\u001b[0m \u001b[0mrow_num\u001b[0m \u001b[0;32min\u001b[0m \u001b[0mrange\u001b[0m\u001b[0;34m(\u001b[0m\u001b[0mDNA_training_data\u001b[0m\u001b[0;34m.\u001b[0m\u001b[0mshape\u001b[0m\u001b[0;34m[\u001b[0m\u001b[0;36m0\u001b[0m\u001b[0;34m]\u001b[0m\u001b[0;34m)\u001b[0m\u001b[0;34m:\u001b[0m\u001b[0;34m\u001b[0m\u001b[0;34m\u001b[0m\u001b[0m\n\u001b[0m\u001b[1;32m      6\u001b[0m     \u001b[0;31m# For each column in our DNA\u001b[0m\u001b[0;34m\u001b[0m\u001b[0;34m\u001b[0m\u001b[0;34m\u001b[0m\u001b[0m\n\u001b[1;32m      7\u001b[0m     \u001b[0;32mfor\u001b[0m \u001b[0mcol_num\u001b[0m \u001b[0;32min\u001b[0m \u001b[0mrange\u001b[0m\u001b[0;34m(\u001b[0m\u001b[0mDNA_training_data\u001b[0m\u001b[0;34m.\u001b[0m\u001b[0mshape\u001b[0m\u001b[0;34m[\u001b[0m\u001b[0;36m1\u001b[0m\u001b[0;34m]\u001b[0m\u001b[0;34m)\u001b[0m\u001b[0;34m:\u001b[0m\u001b[0;34m\u001b[0m\u001b[0;34m\u001b[0m\u001b[0m\n",
      "\u001b[0;31mNameError\u001b[0m: name 'DNA_training_data' is not defined"
     ]
    }
   ],
   "source": [
    "# Because the `range` function gives us the dimensions (row,column) of an array,\n",
    "# we use it to isolate each row and each column in our DNA sequence training data.\n",
    "\n",
    "# For each row in our DNA \n",
    "for row_num in range(DNA_training_data.shape[0]):\n",
    "    # For each column in our DNA\n",
    "    for col_num in range(DNA_training_data.shape[1]):\n",
    "        # For the correponding `state` for our HMM, we go to the state data and\n",
    "        # find the same row and same column number \n",
    "        state = State_training_data[row_num,col_num]\n",
    "        # We rename the value at our given (row,col) in the DNA data as `nucleotide`\n",
    "        nucleotide = DNA_training_data[row_num,col_num]\n",
    "        # ?? \n",
    "        state_index = get_state_index[state]\n",
    "        nucleotide_index = get_nuc_index[nucleotide]\n",
    "\n",
    "        # ?? \n",
    "        emission_counts[state_index,nucleotide_index] += 1\n",
    "\n",
    "        # If there are more columns left to consider, do it again \n",
    "        if col_num < State_training_data.shape[1]-1:\n",
    "            # Go to the next state \n",
    "            next_state = State_training_data[row_num,col_num+1]\n",
    "            # ??\n",
    "            next_state_index = get_state_index[next_state]\n",
    "\n",
    "            # ??\n",
    "            transition_counts[state_index, next_state_index] += 1\n",
    "\n",
    "        # This is actually the first one. If we're at the first column\n",
    "        # (remember, python starts at zero), kick it off! \n",
    "        if col_num == 0:\n",
    "            start_counts[state_index] += 1"
   ]
  },
  {
   "cell_type": "markdown",
   "metadata": {},
   "source": [
    "## Convert emission counts to probabilities "
   ]
  },
  {
   "cell_type": "markdown",
   "metadata": {},
   "source": [
    "Remember the emission probabilities for our HMM? The probability of any state giving us each of the nucleotides. "
   ]
  },
  {
   "cell_type": "code",
   "execution_count": null,
   "metadata": {},
   "outputs": [],
   "source": [
    "# First, we make an array of zeros in the same shape as our emission counts.\n",
    "# This gives us an easy place (with the correct number of rows and columns)\n",
    "# to store our emission probabilities once we have them.\n",
    "emission_probs = numpy.zeros(emission_counts.shape)\n",
    "\n",
    "# For each row\n",
    "for row_num in range(emission_counts.shape[0]):\n",
    "    # Get the number of emissions at each row and add them together. \n",
    "    # We're using the `sum` command within the numpy package.\n",
    "    row_sum = numpy.sum(emission_counts[row_num])\n",
    "    # If we have any value that is not zero,\n",
    "    if row_sum != 0:\n",
    "        # ??\n",
    "        emission_probs[row_num] = emission_counts[row_num]/row_sum"
   ]
  },
  {
   "cell_type": "markdown",
   "metadata": {},
   "source": [
    "## Convert transition counts to probabilities "
   ]
  },
  {
   "cell_type": "markdown",
   "metadata": {},
   "source": [
    "Remember the transition probabilities for our HMM? The probability of being in a state at position x+1, given the state we were in at position x. "
   ]
  },
  {
   "cell_type": "code",
   "execution_count": null,
   "metadata": {},
   "outputs": [],
   "source": [
    "transition_probs = numpy.zeros(transition_counts.shape)\n",
    "\n",
    "for row_num in range(transition_counts.shape[0]):\n",
    "    row_sum = numpy.sum(transition_counts[row_num])\n",
    "    if row_sum != 0:\n",
    "        transition_probs[row_num] = transition_counts[row_num]/row_sum"
   ]
  },
  {
   "cell_type": "markdown",
   "metadata": {},
   "source": [
    "## Convert start counts to probabilities "
   ]
  },
  {
   "cell_type": "code",
   "execution_count": null,
   "metadata": {},
   "outputs": [],
   "source": [
    "# ??\n",
    "start_probs = start_counts / numpy.sum(start_counts)"
   ]
  },
  {
   "cell_type": "markdown",
   "metadata": {},
   "source": [
    "# The Viterbi Algorithm"
   ]
  },
  {
   "cell_type": "markdown",
   "metadata": {},
   "source": [
    "First, we define a function that will convert our nucleotides to integers. This is important because ?? "
   ]
  },
  {
   "cell_type": "code",
   "execution_count": null,
   "metadata": {},
   "outputs": [],
   "source": [
    "# The input to our function is some sequence of DNA we're looking to encode\n",
    "def encode_DNA(DNA_seq):\n",
    "\n",
    "    encoded_seq = numpy.zeros(len(DNA_seq),dtype=int)\n",
    "\n",
    "    # Here we use the range function to go through the entire length of the DNA_seq. \n",
    "    # The `for loop` takes us from the beginning of the sequence all the way to the end. \n",
    "    for i in range(len(DNA_seq)):\n",
    "        # The nucleotide considered in each iteration of the for loop is \n",
    "        # the ith letter in the sequence. So DNA_seq[2] gets us the 3rd letter in the sequence. \n",
    "        nucleotide = DNA_seq[i]\n",
    "        # ??\n",
    "        nuc_index = get_nuc_index[nucleotide]\n",
    "        # ??\n",
    "        encoded_seq[i] = nuc_index\n",
    "\n",
    "    # We have a function `return` a value that we want to use for further analysis.\n",
    "    # ?? (what form is the returned info in?)\n",
    "    return encoded_seq\n"
   ]
  },
  {
   "cell_type": "markdown",
   "metadata": {},
   "source": [
    "Now we define a function that will use our state probabilities, transition probabilities, emission probabilities, and the encoded DNA sequence and compute the Viterbi Algorithm. Remember that Viterbi gives us the most probable path through a sequence of states, given a sequence of emissions (in this case, given a DNA sequence). "
   ]
  },
  {
   "cell_type": "markdown",
   "metadata": {},
   "source": [
    "# can u explain in the above cell what are the S_probs? "
   ]
  },
  {
   "cell_type": "code",
   "execution_count": null,
   "metadata": {},
   "outputs": [],
   "source": [
    "# The inputs to our function are the three probabilities and the DNA sequence,\n",
    "# encoded as ___. This is the output of our above function, `encode_DNA`. \n",
    "def viterbi(s_probs, t_probs, e_probs, encoded_DNA_seq):\n",
    "\n",
    "    # To figure out the length of our DNA sequence, we take do the `shape` command to get the \n",
    "    # dimensions of our encoded DNA. This gives us the (dimension1,dimension2). \n",
    "    # By taking the 0th term of that output, we get the ?dimension1. \n",
    "    DNA_length = encoded_DNA_seq.shape[0]\n",
    "    # We do the same thing to get the number of possible states. \n",
    "    num_states = s_probs.shape[0]\n",
    "\n",
    "    # Initialize empty matrices -- we didn't do matrices in the intro \n",
    "    # We make an empty matrix to store the traceback - the path through the states based on \n",
    "    # our emissions. (Think of that rectangle chart used in week 1, where we have some\n",
    "    # probability for each position.)\n",
    "    traceback_matrix = numpy.zeros((num_states,DNA_length), dtype=int)\n",
    "    # ??\n",
    "    traceback_matrix[:,0] = numpy.nan\n",
    "\n",
    "    # We do the same for our probabilities \n",
    "    probability_matrix = numpy.zeros((num_states,DNA_length))\n",
    "\n",
    "    # Compute the probability and traceback matrices\n",
    "    # `position` is just the term we use to refer to each step, as we go from the beginning of \n",
    "    # `DNA_length` to the end. \n",
    "    for position in range(DNA_length):\n",
    "        # Name the variable `nucleotide` to be the value at the given position in our \n",
    "        # encoded DNA sequence\n",
    "        nucleotide = encoded_DNA_seq[position]\n",
    "        # If we're at the first position, kick it off! \n",
    "        if position == 0:\n",
    "            # For any state in the series of states\n",
    "            for state in range(num_states):\n",
    "                # For the state, fill in our empty probability_matrix in the correct cell with \n",
    "                # the correct probability: the probability of being in that state times\n",
    "                # the probability of emitting that nucleotide if in that state\n",
    "                probability_matrix[state,position] = s_probs[state] * e_probs[state,nucleotide]\n",
    "        # If we're at any position besides the first \n",
    "        else:\n",
    "            # Consider the current state \n",
    "            for current_state in range(num_states):\n",
    "                # ??\n",
    "                max_previous_state = None\n",
    "                # ??\n",
    "                max_probability = None\n",
    "                # ?? We walk through the states, using the term `previous_state` \n",
    "                for previous_state in range(num_states):\n",
    "                    # Compute the probability of the path of interest: the probability from the previous cell times\n",
    "                    # the probability of getting to this state from the previous state \n",
    "                    path_prob = probability_matrix[previous_state,position-1] * t_probs[previous_state, current_state] *  e_probs[current_state, nucleotide]\t\t\t\t\n",
    "                    # We keep only the path with the higher probability \n",
    "                    if max_probability == None or path_prob > max_probability:\n",
    "                        max_previous_state = previous_state\n",
    "                        max_probability = path_prob\n",
    "                # Update the probability matrix using the newly computed maximum probability \n",
    "                probability_matrix[current_state, position] = max_probability\n",
    "                # Update the traceback matrix (the path through states) using \n",
    "                # ?? \n",
    "                traceback_matrix[current_state, position] = max_previous_state\n",
    "\n",
    "    # Navigate the traceback matrix\n",
    "    # We find the maximum value in the probability matrix, considering ??\n",
    "    # ?? every row until the second to last colun\n",
    "    max_path_probability = numpy.max(probability_matrix[:,-1])\n",
    "    # ?? \n",
    "    max_end_state = numpy.argmax(probability_matrix[:,-1])\n",
    "\n",
    "    # ?? \n",
    "    max_path = numpy.zeros(DNA_length, dtype=int)\n",
    "\n",
    "    # ??\n",
    "    current_state = max_end_state\n",
    "    # We use the `range` command to walk through the DNA sequence. \n",
    "    # We go from ?? \n",
    "    for i in range(DNA_length-1, -1, -1): # could also use a while loop\n",
    "        # ??\n",
    "        max_path[i] = current_state\n",
    "        # We replace our current state with the value in our `traceback_matrix` at the \n",
    "        # position of interest \n",
    "        current_state = traceback_matrix[current_state, i]\n",
    "\n",
    "    # The function the probability of the most likely path, `max_path_probability`,\n",
    "    # and returns the most likely path itself, `max_path` \n",
    "    return max_path_probability, max_path"
   ]
  },
  {
   "cell_type": "markdown",
   "metadata": {},
   "source": [
    "We check our work by using a test sequence! "
   ]
  },
  {
   "cell_type": "code",
   "execution_count": null,
   "metadata": {},
   "outputs": [],
   "source": [
    "# We make up a strand of DNA and name it `test_seq`\n",
    "test_seq = 'CATGAGCTCTCGAGATCGATAGCTCTCGAGATGCGATATACGCTCGCGATGCATGCACTC'\n",
    "\n",
    "# We encode our strand using the `encode_DNA` function and save that output in the variable\n",
    "# `encoded_test_seq` to be used later\n",
    "encoded_test_seq = encode_DNA(test_seq)\n",
    "\n",
    "# We run the Viterbi Algorithm function, using the inputs `start_probs`, `transition_probs`,\n",
    "# `emission_probs` from our training data and the encoded DNA output from the above function\n",
    "viterbi_results = viterbi(start_probs, transition_probs, emission_probs, encoded_test_seq)\n",
    "\n",
    "# The Viterbi Algorithm function returns two values: the `max_path_probability` and the \n",
    "# `max_path`. We're interested in what that path is - not really its probability. \n",
    "# Remember that python starts counting at zero. So since we want the second value returned\n",
    "# from the Viterbi Algorithm function, `max_path`, we index the `viterbi_results` \n",
    "# asking for the [1] term. \n",
    "print(viterbi_results[1])"
   ]
  }
 ],
 "metadata": {
  "kernelspec": {
   "display_name": "Python 3",
   "language": "python",
   "name": "python3"
  },
  "language_info": {
   "codemirror_mode": {
    "name": "ipython",
    "version": 3
   },
   "file_extension": ".py",
   "mimetype": "text/x-python",
   "name": "python",
   "nbconvert_exporter": "python",
   "pygments_lexer": "ipython3",
   "version": "3.8.5"
  }
 },
 "nbformat": 4,
 "nbformat_minor": 4
}
