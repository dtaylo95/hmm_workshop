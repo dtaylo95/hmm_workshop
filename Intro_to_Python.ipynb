{
 "cells": [
  {
   "cell_type": "markdown",
   "metadata": {},
   "source": [
    "# HMM Workshop Part 2\n",
    "## Sara Carioscia and Dylan Taylor\n",
    "### Hosted by Agara Bio"
   ]
  },
  {
   "cell_type": "markdown",
   "metadata": {},
   "source": [
    "Sara will have this section explain what we did last week"
   ]
  },
  {
   "cell_type": "markdown",
   "metadata": {},
   "source": [
    "Sara will have this section explain the break down of what we're doing today"
   ]
  },
  {
   "cell_type": "markdown",
   "metadata": {},
   "source": [
    "# Introduction to Python Basics"
   ]
  },
  {
   "cell_type": "markdown",
   "metadata": {},
   "source": [
    "* ~~Variables (int, floats, strings)~~\n",
    "* Lists (Sara is doing this)\n",
    "* **Numpy Arrays** (Sara is doing this)\n",
    "* **For loops** (Dylan is doing this)\n",
    "* Briefly dictionaries (Sara is doing this)\n",
    "* The range function (Sara is doing this)\n",
    "* Functions (Dylan is doing this)\n",
    "* **Conditionals** (Dylan is doing this)"
   ]
  },
  {
   "cell_type": "markdown",
   "metadata": {},
   "source": [
    "## Variables\n",
    "\n",
    "A variable is a name that you give to some piece of data in Python. The name can be whatever you want, with some restrictions. It can't have any spaces, can't start with a number, and shouldn't be the same as one of Python's inherent variables or functions. For example, I could create a variable called `my_var`.\n",
    "\n",
    "The data that you store in a variable can be an integer (`3`), a float (`3.0`), a string (`'Hello world'`), or any other data type python can handle. We'll talk about some other examples of datatypes later.\n",
    "\n",
    "We can \"set\" our variables using the `=` operator. So I can set the value of `my_var` to be the integer `4` by doing the following:\n",
    "\n",
    "`my_var = 4`\n",
    "\n",
    "The spaces next to the `=` aren't actually necessary, I just think it looks cleaner.\n"
   ]
  },
  {
   "cell_type": "code",
   "execution_count": null,
   "metadata": {},
   "outputs": [],
   "source": [
    "my_var1 = 4\n",
    "fruit = 'Hello'\n",
    "salad = 6.3"
   ]
  },
  {
   "cell_type": "markdown",
   "metadata": {},
   "source": [
    "To check out the value of any of your variables, you can use the `print` function."
   ]
  },
  {
   "cell_type": "code",
   "execution_count": null,
   "metadata": {},
   "outputs": [],
   "source": [
    "print(my_var1)"
   ]
  },
  {
   "cell_type": "markdown",
   "metadata": {},
   "source": [
    "We can also modify the values of variables"
   ]
  },
  {
   "cell_type": "code",
   "execution_count": null,
   "metadata": {},
   "outputs": [],
   "source": [
    "my_var1 = 'world'\n",
    "print(my_var1)\n",
    "\n",
    "salad = salad + 1.7\n",
    "print(salad)\n",
    "\n",
    "salad += 2\n",
    "print(salad)"
   ]
  },
  {
   "cell_type": "markdown",
   "metadata": {},
   "source": [
    "## Lists and Arrays"
   ]
  },
  {
   "cell_type": "markdown",
   "metadata": {},
   "source": [
    "A list is a vector of values of any type - one can be a string, followed by an integer, followed by a float (e.g., `sample_list = [\"my\", \"dog\", \"is\", 1]`). A list is just one dimension."
   ]
  },
  {
   "cell_type": "markdown",
   "metadata": {},
   "source": [
    "We can access the items in our vector by indexing. Just remember that python indexes from zero. If we want the term our eyes see first, that is actually the zero-th item:"
   ]
  },
  {
   "cell_type": "code",
   "execution_count": null,
   "metadata": {},
   "outputs": [],
   "source": [
    "sample_list = [\"my\", \"dog\", \"is\", 1]\n",
    "\n",
    "sample_list[0]"
   ]
  },
  {
   "cell_type": "markdown",
   "metadata": {},
   "source": [
    "Sometimes we import a vector of variables and we want to see how long our list actually is. To do this, we use the `len` function.  You can either just query the length of the vector, or you can assign that length value to a variable to be used later. "
   ]
  },
  {
   "cell_type": "code",
   "execution_count": null,
   "metadata": {},
   "outputs": [],
   "source": [
    "#How long is our list?\n",
    "len(sample_list)"
   ]
  },
  {
   "cell_type": "code",
   "execution_count": null,
   "metadata": {},
   "outputs": [],
   "source": [
    "#Save the length to be used later \n",
    "#Here, we save the variable `len_sample_list` as the length of our list\n",
    "len_sample_list = len(sample_list)\n",
    "#Show us that length\n",
    "print(len_sample_list)"
   ]
  },
  {
   "cell_type": "markdown",
   "metadata": {},
   "source": [
    "An array is a vector of values of the same type - they're all strings, or all integers, etc. Note we are using the `numpy` package to access the `array` command and format our numbers as an array. We thus need to be sure we import the numpy package. \n",
    "\n",
    "Arrays can also be multiple dimensions - letting us use paired data. The syntax is a little different for making a one- vs. a multi-dimension array. We can use the `shape` command to determine the dimensions of our array. "
   ]
  },
  {
   "cell_type": "code",
   "execution_count": null,
   "metadata": {},
   "outputs": [],
   "source": [
    "import numpy"
   ]
  },
  {
   "cell_type": "code",
   "execution_count": null,
   "metadata": {},
   "outputs": [],
   "source": [
    "#One-dimensional array\n",
    "one_dim = numpy.array([1,2,3,4,5])\n",
    "#Tell us how many rows and columns are in our array. Looking at the above, what do we expect? \n",
    "one_dim.shape\n",
    "#The result (5,) tells us "
   ]
  },
  {
   "cell_type": "code",
   "execution_count": null,
   "metadata": {},
   "outputs": [],
   "source": [
    "#Two-dimensional array \n",
    "two_dim = numpy.array([[1,2,3],[4,5,6]])\n",
    "#How many rows and columns? \n",
    "two_dim.shape\n",
    "#The result (2,3) tells us"
   ]
  },
  {
   "cell_type": "markdown",
   "metadata": {},
   "source": [
    "## Dictionaries"
   ]
  },
  {
   "cell_type": "markdown",
   "metadata": {},
   "source": [
    "And one last data storage method... A dictionary lets you pair your data. So if at position 0 (remember, python starts at zero) in your DNA sequence you have a T, and at position 1 you have an A, you can save these as a dictionary and then access via the position or the nucleotide."
   ]
  },
  {
   "cell_type": "code",
   "execution_count": 3,
   "metadata": {},
   "outputs": [
    {
     "name": "stdout",
     "output_type": "stream",
     "text": [
      "{0: 'T', 1: 'A', 2: 'C'}\n"
     ]
    }
   ],
   "source": [
    "sample_dict = {\n",
    "  0: \"T\",\n",
    "  1: \"A\",\n",
    "  2: \"C\"\n",
    "}\n",
    "\n",
    "print(sample_dict)"
   ]
  },
  {
   "cell_type": "code",
   "execution_count": 5,
   "metadata": {},
   "outputs": [
    {
     "name": "stdout",
     "output_type": "stream",
     "text": [
      "A\n"
     ]
    }
   ],
   "source": [
    "#What is the second nucleotide in our sample sequence?\n",
    "print(sample_dict[1])"
   ]
  },
  {
   "cell_type": "markdown",
   "metadata": {},
   "source": [
    "## For Loops\n",
    "\n",
    "Often, it is useful to be able to walk through an entire set of data and perform the same (or similar) actions on that data. For this purpose we can use something called a `for` loop.\n",
    "\n",
    "Let's say we have the following list:"
   ]
  },
  {
   "cell_type": "code",
   "execution_count": null,
   "metadata": {},
   "outputs": [],
   "source": [
    "my_list = [1,2,3,4,5,6]"
   ]
  },
  {
   "cell_type": "markdown",
   "metadata": {},
   "source": [
    "We want to run through this list and print each element of the list. To do so we use the following structure:"
   ]
  },
  {
   "cell_type": "code",
   "execution_count": null,
   "metadata": {},
   "outputs": [],
   "source": [
    "for x in my_list:\n",
    "    print(x)"
   ]
  },
  {
   "cell_type": "markdown",
   "metadata": {},
   "source": [
    "There are a few things to note here.\n",
    "\n",
    "The `x` is a temporary variable. Each time you iterate through the list, `x` gets \"set\" as the next element in the list. As other variables, you can (mostly) name this variable whatever you want.\n",
    "\n",
    "The structure of the for loop is:\n",
    "\n",
    "```\n",
    "for {temporary variable} in {thing to loop through}:\n",
    "    {do something}\n",
    "```\n",
    "\n",
    "The instructions of what to do on each iteration are after the first line and are indented by a single `tab`.\n",
    "\n",
    "The `for` loop starts at the beginning of the list, setting `x` as the first element of the list, in this case `1`. Then it does the instructions we gave it. In this case, `print(x)` which will print `1`. Because our instructions are now over, it will move to the next element in the list, setting `x` as `2` and so on. It will continue until the end of the list.\n",
    "\n",
    "What if we wanted to print each element of the list multiplied by 2?"
   ]
  },
  {
   "cell_type": "code",
   "execution_count": null,
   "metadata": {},
   "outputs": [],
   "source": [
    "for x in my_list:\n",
    "    print(2*x)"
   ]
  },
  {
   "cell_type": "markdown",
   "metadata": {},
   "source": [
    "Once we un-indent, we're no longer in the `for` loop."
   ]
  },
  {
   "cell_type": "code",
   "execution_count": null,
   "metadata": {},
   "outputs": [],
   "source": [
    "for x in my_list:\n",
    "    print(x)\n",
    "\n",
    "print('Hello')"
   ]
  },
  {
   "cell_type": "markdown",
   "metadata": {},
   "source": [
    "## The range() Function"
   ]
  },
  {
   "cell_type": "raw",
   "metadata": {},
   "source": [
    "The `range` function lets us step through a series of data. The syntax is `range(start, stop, step)`. We use range to get list indices.    "
   ]
  },
  {
   "cell_type": "code",
   "execution_count": 8,
   "metadata": {},
   "outputs": [
    {
     "name": "stdout",
     "output_type": "stream",
     "text": [
      "1\n",
      "3\n",
      "5\n",
      "7\n",
      "9\n"
     ]
    }
   ],
   "source": [
    "#We have a series of numbers from 1 through 10 \n",
    "#We want to take every other number (step in groups of 2)\n",
    "sample_range = range(1, 10, 2)\n",
    "for value in sample_range:\n",
    "    #What should this show us?\n",
    "    print(value)"
   ]
  },
  {
   "cell_type": "markdown",
   "metadata": {},
   "source": [
    "## Conditionals\n",
    "\n",
    "Sometimes, we want to check the value of a variable and carry out one set of instructions if it meets a condition, and another set of instructions if it doesn't (or meets another condition).\n",
    "\n",
    "We can do so using the `if`, `else` structure.\n",
    "\n",
    "```\n",
    "if {some conditional}:\n",
    "    {do something}\n",
    "else:\n",
    "    {do something else}\n",
    "```\n",
    "\n",
    "There are tons of conditions we can check, but the basic ones are:\n",
    "\n",
    "`x < y`  is x less than y<br>\n",
    "`x <= y` is x less than or equal to y<br>\n",
    "`x > y`  is x greater than y<br>\n",
    "`x >= y` is x greater than or equal to y<br>\n",
    "`x == y` is x equal to y (note that this is different from `=` which is used for variable assignment)\n",
    "\n",
    "We first check a condition using `if`. For example, we could check whether our variable is smaller than 20, and print something if it is."
   ]
  },
  {
   "cell_type": "code",
   "execution_count": null,
   "metadata": {},
   "outputs": [],
   "source": [
    "my_var = 12\n",
    "\n",
    "if my_var < 20:\n",
    "    print('This is a small number')"
   ]
  },
  {
   "cell_type": "markdown",
   "metadata": {},
   "source": [
    "As it is now, if our variable is greater than or equal to 20, our code doesn't do anything and will just move on. If we want to do something if this is the case, we can use an `else` statement."
   ]
  },
  {
   "cell_type": "code",
   "execution_count": null,
   "metadata": {},
   "outputs": [],
   "source": [
    "my_var = 12\n",
    "\n",
    "if my_var < 20:\n",
    "    print('This is a small number')\n",
    "else:\n",
    "    print('This is a big number')"
   ]
  },
  {
   "cell_type": "markdown",
   "metadata": {},
   "source": [
    "Let's say we're looping through a list using the `range()` function, and we want to print each value of the list *unless* it's the first element, in which case we want to print the value multiplied by 2."
   ]
  },
  {
   "cell_type": "code",
   "execution_count": null,
   "metadata": {},
   "outputs": [],
   "source": [
    "my_list = [5,4,3,2,1]\n",
    "\n",
    "for i in range(len(my_list)):\n",
    "    if i == 0:\n",
    "        print(2*i)\n",
    "    else:\n",
    "        print(i)"
   ]
  },
  {
   "cell_type": "markdown",
   "metadata": {},
   "source": [
    "## Functions\n",
    "\n",
    "The last topic we need to discuss is functions.\n",
    "\n",
    "At it's most basic, a function takes some number of inputs and *returns* some number of outputs (typically based on those inputs). A function has the following structure:\n",
    "\n",
    "```\n",
    "def my_function({inputs separated by commas}):\n",
    "    {do something}\n",
    "    return {outputs}\n",
    "```\n",
    "\n",
    "First, we name our function. Above, I named it `my_function`. Then, we decide on the inputs we need, in parantheses and separated by commas.\n",
    "\n",
    "The body of our function contains the instructions for our function, which will often be manipulating the inputs in some way.\n",
    "\n",
    "At the end of the body of our function, we have a `return` statement that will \"output\" what we tell it to. This output can be stored as a variable, used in a conditional, added to a list, etc."
   ]
  },
  {
   "cell_type": "markdown",
   "metadata": {},
   "source": [
    "Let's write a simple function that takes two numbers (`x` and `y`) and adds them together."
   ]
  },
  {
   "cell_type": "code",
   "execution_count": null,
   "metadata": {},
   "outputs": [],
   "source": [
    "def our_add_function(x,y):\n",
    "    added_value = x + y\n",
    "    return added_value"
   ]
  },
  {
   "cell_type": "markdown",
   "metadata": {},
   "source": [
    "Let's call our function on two numbers and store the output in a variable"
   ]
  },
  {
   "cell_type": "code",
   "execution_count": null,
   "metadata": {},
   "outputs": [],
   "source": [
    "added_number = our_add_function(3,5.5)\n",
    "\n",
    "print(added_number)"
   ]
  },
  {
   "cell_type": "markdown",
   "metadata": {},
   "source": [
    "We can also write a function that returns two outputs.\n",
    "\n",
    "Let's write a function that takes two numbers (`x` and `y`) as inputs and returns their sum, and also returns their product."
   ]
  },
  {
   "cell_type": "code",
   "execution_count": null,
   "metadata": {},
   "outputs": [],
   "source": [
    "def our_double_function(x,y):\n",
    "    return x+y, x*y"
   ]
  },
  {
   "cell_type": "markdown",
   "metadata": {},
   "source": [
    "As before, let's call our function on two numbers and store the output in a variable."
   ]
  },
  {
   "cell_type": "code",
   "execution_count": null,
   "metadata": {},
   "outputs": [],
   "source": [
    "results = our_double_function(2,3)\n",
    "\n",
    "print(results[0])\n",
    "print(results[1])"
   ]
  },
  {
   "cell_type": "markdown",
   "metadata": {},
   "source": []
  }
 ],
 "metadata": {
  "kernelspec": {
   "display_name": "Python 3",
   "language": "python",
   "name": "python3"
  },
  "language_info": {
   "codemirror_mode": {
    "name": "ipython",
    "version": 3
   },
   "file_extension": ".py",
   "mimetype": "text/x-python",
   "name": "python",
   "nbconvert_exporter": "python",
   "pygments_lexer": "ipython3",
   "version": "3.8.5"
  }
 },
 "nbformat": 4,
 "nbformat_minor": 4
}
